{
  "nbformat": 4,
  "nbformat_minor": 0,
  "metadata": {
    "colab": {
      "name": "Copy of high_flow_patients_and_diagnoses_KTtest.ipynb",
      "version": "0.3.2",
      "provenance": [],
      "include_colab_link": true
    },
    "kernelspec": {
      "name": "python3",
      "display_name": "Python 3"
    }
  },
  "cells": [
    {
      "cell_type": "markdown",
      "metadata": {
        "id": "view-in-github",
        "colab_type": "text"
      },
      "source": [
        "<a href=\"https://colab.research.google.com/github/kristentgav/mimic-code/blob/master/Copy_of_high_flow_patients_and_diagnoses_KTtest.ipynb\" target=\"_parent\"><img src=\"https://colab.research.google.com/assets/colab-badge.svg\" alt=\"Open In Colab\"/></a>"
      ]
    },
    {
      "metadata": {
        "id": "FyNNcrP6z2mV",
        "colab_type": "code",
        "colab": {
          "base_uri": "https://localhost:8080/",
          "height": 101
        },
        "outputId": "0f64dd01-7a89-4b43-da3b-03991b99de83"
      },
      "cell_type": "code",
      "source": [
        "# Import libraries\n",
        "import numpy as np\n",
        "import os\n",
        "#!pip install --upgrade pandas\n",
        "import pandas as pd\n",
        "import matplotlib.pyplot as plt\n",
        "import matplotlib.patches as patches\n",
        "import matplotlib.path as path\n",
        "import tensorflow as tf\n",
        "\n",
        "# Below imports are used to print out pretty pandas dataframes\n",
        "from IPython.display import display, HTML\n",
        "\n",
        "# Imports for accessing Datathon data using Google BigQuery.\n",
        "from google.colab import auth\n",
        "from google.cloud import bigquery\n",
        "\n",
        "#Import for making table 1\n",
        "!pip install -q tableone #not available by default in colab- need to install\n",
        "from tableone import TableOne"
      ],
      "execution_count": 1,
      "outputs": [
        {
          "output_type": "stream",
          "text": [
            "Requirement already up-to-date: pandas in /usr/local/lib/python3.6/dist-packages (0.23.4)\n",
            "Requirement already satisfied, skipping upgrade: numpy>=1.9.0 in /usr/local/lib/python3.6/dist-packages (from pandas) (1.14.6)\n",
            "Requirement already satisfied, skipping upgrade: python-dateutil>=2.5.0 in /usr/local/lib/python3.6/dist-packages (from pandas) (2.5.3)\n",
            "Requirement already satisfied, skipping upgrade: pytz>=2011k in /usr/local/lib/python3.6/dist-packages (from pandas) (2018.7)\n",
            "Requirement already satisfied, skipping upgrade: six>=1.5 in /usr/local/lib/python3.6/dist-packages (from python-dateutil>=2.5.0->pandas) (1.11.0)\n"
          ],
          "name": "stdout"
        }
      ]
    },
    {
      "metadata": {
        "id": "L_wJFmHUGkda",
        "colab_type": "text"
      },
      "cell_type": "markdown",
      "source": [
        ""
      ]
    },
    {
      "metadata": {
        "id": "cX4_CEYk8E4v",
        "colab_type": "text"
      },
      "cell_type": "markdown",
      "source": [
        "## Queries"
      ]
    },
    {
      "metadata": {
        "id": "Y9S5nD4J0sqJ",
        "colab_type": "code",
        "colab": {}
      },
      "cell_type": "code",
      "source": [
        "auth.authenticate_user()"
      ],
      "execution_count": 0,
      "outputs": []
    },
    {
      "metadata": {
        "id": "Q7gAeqbV008J",
        "colab_type": "code",
        "colab": {}
      },
      "cell_type": "code",
      "source": [
        "project_id='hst-953-2018'\n",
        "os.environ[\"GOOGLE_CLOUD_PROJECT\"]=project_id"
      ],
      "execution_count": 0,
      "outputs": []
    },
    {
      "metadata": {
        "id": "UqAkiivp06wJ",
        "colab_type": "code",
        "colab": {}
      },
      "cell_type": "code",
      "source": [
        "# Read data from BigQuery into pandas dataframes.\n",
        "def run_query(query):\n",
        "  return pd.io.gbq.read_gbq(query, project_id=project_id, verbose=False, configuration={'query':{'useLegacySql': False}})"
      ],
      "execution_count": 0,
      "outputs": []
    },
    {
      "metadata": {
        "id": "RjMjSdJ20_sa",
        "colab_type": "code",
        "colab": {
          "base_uri": "https://localhost:8080/",
          "height": 397
        },
        "outputId": "3300f862-b802-4eb3-dc29-d25357855727"
      },
      "cell_type": "code",
      "source": [
        "df = run_query('''\n",
        "\n",
        "with sq as(\n",
        "SELECT * \n",
        "FROM `physionet-data.eicu_crd.respiratorycharting`  \n",
        "WHERE respchartvaluelabel='LPM O2' AND REGEXP_CONTAINS(respchartvalue,'^[0-9]*$')\n",
        ")\n",
        "\n",
        "SELECT   \n",
        "  DISTINCT uniquepid as unique_patients \n",
        "  FROM sq \n",
        "  INNER JOIN `physionet-data.eicu_crd.patient` patient\n",
        "    ON sq.patientunitstayid = patient.patientunitstayid\n",
        "  INNER JOIN `physionet-data.eicu_crd.diagnosis` diagnosis\n",
        "    ON patient.patientunitstayid = diagnosis.patientunitstayid \n",
        "WHERE AGE NOT IN ('1','2','3','4','5','6','7','8','10','11','12','13','14','15','16','17')\n",
        "AND CAST(respchartvalue AS NUMERIC) >= 30\n",
        "AND CAST(respchartvalue AS NUMERIC) <= 60\n",
        "''')\n",
        "\n",
        "df.head(10)"
      ],
      "execution_count": 5,
      "outputs": [
        {
          "output_type": "stream",
          "text": [
            "/usr/local/lib/python3.6/dist-packages/pandas_gbq/gbq.py:810: FutureWarning: verbose is deprecated and will be removed in a future version. Set logging level in order to vary verbosity\n",
            "  \"verbosity\", FutureWarning, stacklevel=1)\n"
          ],
          "name": "stderr"
        },
        {
          "output_type": "execute_result",
          "data": {
            "text/html": [
              "<div>\n",
              "<style scoped>\n",
              "    .dataframe tbody tr th:only-of-type {\n",
              "        vertical-align: middle;\n",
              "    }\n",
              "\n",
              "    .dataframe tbody tr th {\n",
              "        vertical-align: top;\n",
              "    }\n",
              "\n",
              "    .dataframe thead th {\n",
              "        text-align: right;\n",
              "    }\n",
              "</style>\n",
              "<table border=\"1\" class=\"dataframe\">\n",
              "  <thead>\n",
              "    <tr style=\"text-align: right;\">\n",
              "      <th></th>\n",
              "      <th>unique_patients</th>\n",
              "    </tr>\n",
              "  </thead>\n",
              "  <tbody>\n",
              "    <tr>\n",
              "      <th>0</th>\n",
              "      <td>002-17958</td>\n",
              "    </tr>\n",
              "    <tr>\n",
              "      <th>1</th>\n",
              "      <td>002-3290</td>\n",
              "    </tr>\n",
              "    <tr>\n",
              "      <th>2</th>\n",
              "      <td>002-61259</td>\n",
              "    </tr>\n",
              "    <tr>\n",
              "      <th>3</th>\n",
              "      <td>002-73428</td>\n",
              "    </tr>\n",
              "    <tr>\n",
              "      <th>4</th>\n",
              "      <td>002-46870</td>\n",
              "    </tr>\n",
              "    <tr>\n",
              "      <th>5</th>\n",
              "      <td>002-34186</td>\n",
              "    </tr>\n",
              "    <tr>\n",
              "      <th>6</th>\n",
              "      <td>002-65803</td>\n",
              "    </tr>\n",
              "    <tr>\n",
              "      <th>7</th>\n",
              "      <td>002-52140</td>\n",
              "    </tr>\n",
              "    <tr>\n",
              "      <th>8</th>\n",
              "      <td>002-12593</td>\n",
              "    </tr>\n",
              "    <tr>\n",
              "      <th>9</th>\n",
              "      <td>002-58401</td>\n",
              "    </tr>\n",
              "  </tbody>\n",
              "</table>\n",
              "</div>"
            ],
            "text/plain": [
              "  unique_patients\n",
              "0       002-17958\n",
              "1        002-3290\n",
              "2       002-61259\n",
              "3       002-73428\n",
              "4       002-46870\n",
              "5       002-34186\n",
              "6       002-65803\n",
              "7       002-52140\n",
              "8       002-12593\n",
              "9       002-58401"
            ]
          },
          "metadata": {
            "tags": []
          },
          "execution_count": 5
        }
      ]
    },
    {
      "metadata": {
        "id": "dBchet4e1l9j",
        "colab_type": "code",
        "colab": {
          "base_uri": "https://localhost:8080/",
          "height": 185
        },
        "outputId": "d3cc2927-008c-43f5-f30e-8b89f78505ec"
      },
      "cell_type": "code",
      "source": [
        "unique_patients = df['unique_patients'].tolist()\n",
        "unique_patients[0:10]"
      ],
      "execution_count": 6,
      "outputs": [
        {
          "output_type": "execute_result",
          "data": {
            "text/plain": [
              "['002-17958',\n",
              " '002-3290',\n",
              " '002-61259',\n",
              " '002-73428',\n",
              " '002-46870',\n",
              " '002-34186',\n",
              " '002-65803',\n",
              " '002-52140',\n",
              " '002-12593',\n",
              " '002-58401']"
            ]
          },
          "metadata": {
            "tags": []
          },
          "execution_count": 6
        }
      ]
    },
    {
      "metadata": {
        "id": "ceQGsH9t1qh1",
        "colab_type": "code",
        "colab": {
          "base_uri": "https://localhost:8080/",
          "height": 34
        },
        "outputId": "9bf17ccc-7cf7-4d17-b43a-69299920ab9f"
      },
      "cell_type": "code",
      "source": [
        "len(list(set(unique_patients)))"
      ],
      "execution_count": 7,
      "outputs": [
        {
          "output_type": "execute_result",
          "data": {
            "text/plain": [
              "3307"
            ]
          },
          "metadata": {
            "tags": []
          },
          "execution_count": 7
        }
      ]
    },
    {
      "metadata": {
        "id": "mFF4uYgi1tlV",
        "colab_type": "code",
        "colab": {
          "base_uri": "https://localhost:8080/",
          "height": 565
        },
        "outputId": "67569961-d9aa-4cdb-cce5-d4c6a6a8cccd"
      },
      "cell_type": "code",
      "source": [
        "df_high_flow = run_query('''\n",
        "with sq as(\n",
        "SELECT * \n",
        "FROM `physionet-data.eicu_crd.respiratorycharting`  \n",
        "  WHERE respchartvaluelabel='LPM O2' AND REGEXP_CONTAINS(respchartvalue,'^[0-9]*$')\n",
        ")\n",
        "SELECT  \n",
        "  age, gender, ethnicity, hospitalID, wardID, apacheAdmissionDx, admissionHeight, admissionWeight, \n",
        "  hospitalDischargeYear, hospitalDischargeStatus, \n",
        "  hospitalAdmitSource, sq.patientunitstayid, uniquepid as unique_patients, CAST(respchartvalue AS INT64), \n",
        "  respChartOffset, respChartEntryOffset, \n",
        "  respchartvaluelabel  \n",
        "FROM sq \n",
        "INNER JOIN `physionet-data.eicu_crd.patient` patient\n",
        "  ON sq.patientunitstayid = patient.patientunitstayid\n",
        "WHERE AGE NOT IN ('1','2','3','4','5','6','7','8','10','11','12','13','14','15','16','17')\n",
        "AND CAST(respchartvalue as numeric) >= 30\n",
        "AND CAST(respchartvalue as numeric) <= 60\n",
        "ORDER BY unique_patients\n",
        "''')\n",
        "\n",
        "\n",
        "df_high_flow = df_high_flow.rename(columns = {'f0_' : 'respchartvalue'})\n",
        "df_high_flow.head(10)"
      ],
      "execution_count": 58,
      "outputs": [
        {
          "output_type": "stream",
          "text": [
            "/usr/local/lib/python3.6/dist-packages/pandas_gbq/gbq.py:810: FutureWarning: verbose is deprecated and will be removed in a future version. Set logging level in order to vary verbosity\n",
            "  \"verbosity\", FutureWarning, stacklevel=1)\n"
          ],
          "name": "stderr"
        },
        {
          "output_type": "execute_result",
          "data": {
            "text/html": [
              "<div>\n",
              "<style scoped>\n",
              "    .dataframe tbody tr th:only-of-type {\n",
              "        vertical-align: middle;\n",
              "    }\n",
              "\n",
              "    .dataframe tbody tr th {\n",
              "        vertical-align: top;\n",
              "    }\n",
              "\n",
              "    .dataframe thead th {\n",
              "        text-align: right;\n",
              "    }\n",
              "</style>\n",
              "<table border=\"1\" class=\"dataframe\">\n",
              "  <thead>\n",
              "    <tr style=\"text-align: right;\">\n",
              "      <th></th>\n",
              "      <th>age</th>\n",
              "      <th>gender</th>\n",
              "      <th>ethnicity</th>\n",
              "      <th>hospitalID</th>\n",
              "      <th>wardID</th>\n",
              "      <th>apacheAdmissionDx</th>\n",
              "      <th>admissionHeight</th>\n",
              "      <th>admissionWeight</th>\n",
              "      <th>hospitalDischargeYear</th>\n",
              "      <th>hospitalDischargeStatus</th>\n",
              "      <th>hospitalAdmitSource</th>\n",
              "      <th>patientunitstayid</th>\n",
              "      <th>unique_patients</th>\n",
              "      <th>respchartvalue</th>\n",
              "      <th>respChartOffset</th>\n",
              "      <th>respChartEntryOffset</th>\n",
              "      <th>respchartvaluelabel</th>\n",
              "    </tr>\n",
              "  </thead>\n",
              "  <tbody>\n",
              "    <tr>\n",
              "      <th>0</th>\n",
              "      <td>68</td>\n",
              "      <td>Female</td>\n",
              "      <td>Caucasian</td>\n",
              "      <td>63</td>\n",
              "      <td>95</td>\n",
              "      <td>CHF, congestive heart failure</td>\n",
              "      <td>160.0</td>\n",
              "      <td>126.2</td>\n",
              "      <td>2015</td>\n",
              "      <td>Alive</td>\n",
              "      <td>Emergency Department</td>\n",
              "      <td>173458</td>\n",
              "      <td>002-10086</td>\n",
              "      <td>30</td>\n",
              "      <td>405</td>\n",
              "      <td>405</td>\n",
              "      <td>LPM O2</td>\n",
              "    </tr>\n",
              "    <tr>\n",
              "      <th>1</th>\n",
              "      <td>68</td>\n",
              "      <td>Female</td>\n",
              "      <td>Caucasian</td>\n",
              "      <td>63</td>\n",
              "      <td>95</td>\n",
              "      <td>CHF, congestive heart failure</td>\n",
              "      <td>160.0</td>\n",
              "      <td>126.2</td>\n",
              "      <td>2015</td>\n",
              "      <td>Alive</td>\n",
              "      <td>Emergency Department</td>\n",
              "      <td>173458</td>\n",
              "      <td>002-10086</td>\n",
              "      <td>30</td>\n",
              "      <td>211</td>\n",
              "      <td>211</td>\n",
              "      <td>LPM O2</td>\n",
              "    </tr>\n",
              "    <tr>\n",
              "      <th>2</th>\n",
              "      <td>68</td>\n",
              "      <td>Female</td>\n",
              "      <td>Caucasian</td>\n",
              "      <td>63</td>\n",
              "      <td>95</td>\n",
              "      <td>CHF, congestive heart failure</td>\n",
              "      <td>160.0</td>\n",
              "      <td>126.2</td>\n",
              "      <td>2015</td>\n",
              "      <td>Alive</td>\n",
              "      <td>Emergency Department</td>\n",
              "      <td>173458</td>\n",
              "      <td>002-10086</td>\n",
              "      <td>30</td>\n",
              "      <td>360</td>\n",
              "      <td>360</td>\n",
              "      <td>LPM O2</td>\n",
              "    </tr>\n",
              "    <tr>\n",
              "      <th>3</th>\n",
              "      <td>68</td>\n",
              "      <td>Female</td>\n",
              "      <td>Caucasian</td>\n",
              "      <td>63</td>\n",
              "      <td>95</td>\n",
              "      <td>CHF, congestive heart failure</td>\n",
              "      <td>160.0</td>\n",
              "      <td>126.2</td>\n",
              "      <td>2015</td>\n",
              "      <td>Alive</td>\n",
              "      <td>Emergency Department</td>\n",
              "      <td>173458</td>\n",
              "      <td>002-10086</td>\n",
              "      <td>30</td>\n",
              "      <td>390</td>\n",
              "      <td>390</td>\n",
              "      <td>LPM O2</td>\n",
              "    </tr>\n",
              "    <tr>\n",
              "      <th>4</th>\n",
              "      <td>68</td>\n",
              "      <td>Female</td>\n",
              "      <td>Caucasian</td>\n",
              "      <td>63</td>\n",
              "      <td>95</td>\n",
              "      <td>CHF, congestive heart failure</td>\n",
              "      <td>160.0</td>\n",
              "      <td>126.2</td>\n",
              "      <td>2015</td>\n",
              "      <td>Alive</td>\n",
              "      <td>Emergency Department</td>\n",
              "      <td>173458</td>\n",
              "      <td>002-10086</td>\n",
              "      <td>30</td>\n",
              "      <td>235</td>\n",
              "      <td>235</td>\n",
              "      <td>LPM O2</td>\n",
              "    </tr>\n",
              "    <tr>\n",
              "      <th>5</th>\n",
              "      <td>59</td>\n",
              "      <td>Male</td>\n",
              "      <td>Caucasian</td>\n",
              "      <td>73</td>\n",
              "      <td>92</td>\n",
              "      <td>CABG, minimally invasive; mid-CABG</td>\n",
              "      <td>175.3</td>\n",
              "      <td>116.7</td>\n",
              "      <td>2015</td>\n",
              "      <td>Alive</td>\n",
              "      <td>Operating Room</td>\n",
              "      <td>163413</td>\n",
              "      <td>002-10328</td>\n",
              "      <td>40</td>\n",
              "      <td>498</td>\n",
              "      <td>498</td>\n",
              "      <td>LPM O2</td>\n",
              "    </tr>\n",
              "    <tr>\n",
              "      <th>6</th>\n",
              "      <td>63</td>\n",
              "      <td>Female</td>\n",
              "      <td>Caucasian</td>\n",
              "      <td>73</td>\n",
              "      <td>92</td>\n",
              "      <td>CABG with aortic valve replacement</td>\n",
              "      <td>149.9</td>\n",
              "      <td>60.2</td>\n",
              "      <td>2015</td>\n",
              "      <td>Alive</td>\n",
              "      <td>Operating Room</td>\n",
              "      <td>155956</td>\n",
              "      <td>002-10444</td>\n",
              "      <td>40</td>\n",
              "      <td>1267</td>\n",
              "      <td>1267</td>\n",
              "      <td>LPM O2</td>\n",
              "    </tr>\n",
              "    <tr>\n",
              "      <th>7</th>\n",
              "      <td>63</td>\n",
              "      <td>Female</td>\n",
              "      <td>Caucasian</td>\n",
              "      <td>73</td>\n",
              "      <td>92</td>\n",
              "      <td>CABG with aortic valve replacement</td>\n",
              "      <td>149.9</td>\n",
              "      <td>60.2</td>\n",
              "      <td>2015</td>\n",
              "      <td>Alive</td>\n",
              "      <td>Operating Room</td>\n",
              "      <td>155956</td>\n",
              "      <td>002-10444</td>\n",
              "      <td>50</td>\n",
              "      <td>1543</td>\n",
              "      <td>1543</td>\n",
              "      <td>LPM O2</td>\n",
              "    </tr>\n",
              "    <tr>\n",
              "      <th>8</th>\n",
              "      <td>63</td>\n",
              "      <td>Female</td>\n",
              "      <td>Caucasian</td>\n",
              "      <td>73</td>\n",
              "      <td>92</td>\n",
              "      <td>CABG with aortic valve replacement</td>\n",
              "      <td>149.9</td>\n",
              "      <td>60.2</td>\n",
              "      <td>2015</td>\n",
              "      <td>Alive</td>\n",
              "      <td>Operating Room</td>\n",
              "      <td>155956</td>\n",
              "      <td>002-10444</td>\n",
              "      <td>40</td>\n",
              "      <td>3050</td>\n",
              "      <td>3050</td>\n",
              "      <td>LPM O2</td>\n",
              "    </tr>\n",
              "    <tr>\n",
              "      <th>9</th>\n",
              "      <td>63</td>\n",
              "      <td>Female</td>\n",
              "      <td>Caucasian</td>\n",
              "      <td>73</td>\n",
              "      <td>92</td>\n",
              "      <td>CABG with aortic valve replacement</td>\n",
              "      <td>149.9</td>\n",
              "      <td>60.2</td>\n",
              "      <td>2015</td>\n",
              "      <td>Alive</td>\n",
              "      <td>Operating Room</td>\n",
              "      <td>155956</td>\n",
              "      <td>002-10444</td>\n",
              "      <td>40</td>\n",
              "      <td>2886</td>\n",
              "      <td>2886</td>\n",
              "      <td>LPM O2</td>\n",
              "    </tr>\n",
              "  </tbody>\n",
              "</table>\n",
              "</div>"
            ],
            "text/plain": [
              "  age  gender         ...          respChartEntryOffset  respchartvaluelabel\n",
              "0  68  Female         ...                           405               LPM O2\n",
              "1  68  Female         ...                           211               LPM O2\n",
              "2  68  Female         ...                           360               LPM O2\n",
              "3  68  Female         ...                           390               LPM O2\n",
              "4  68  Female         ...                           235               LPM O2\n",
              "5  59    Male         ...                           498               LPM O2\n",
              "6  63  Female         ...                          1267               LPM O2\n",
              "7  63  Female         ...                          1543               LPM O2\n",
              "8  63  Female         ...                          3050               LPM O2\n",
              "9  63  Female         ...                          2886               LPM O2\n",
              "\n",
              "[10 rows x 17 columns]"
            ]
          },
          "metadata": {
            "tags": []
          },
          "execution_count": 58
        }
      ]
    },
    {
      "metadata": {
        "id": "KpGgoOa9ADIS",
        "colab_type": "code",
        "colab": {}
      },
      "cell_type": "code",
      "source": [
        "df_high_flow.loc[df_high_flow['age'] == '> 89','age'] = 90\n",
        "df_high_flow['age'] = pd.to_numeric(df_high_flow['age'], errors='coerce')"
      ],
      "execution_count": 0,
      "outputs": []
    },
    {
      "metadata": {
        "id": "JxgB5Hzr2OIB",
        "colab_type": "code",
        "colab": {
          "base_uri": "https://localhost:8080/",
          "height": 397
        },
        "outputId": "19d7e3d5-1299-4f01-ef33-dc06d9a7a12f"
      },
      "cell_type": "code",
      "source": [
        "df_lpm_values = run_query('''\n",
        "SELECT \n",
        "  CAST(respchartvalue AS INT64), patientUnitStayID \n",
        "FROM `physionet-data.eicu_crd.respiratorycharting`  \n",
        "WHERE respchartvaluelabel='LPM O2' \n",
        "AND REGEXP_CONTAINS(respchartvalue,'^[0-9]*$')\n",
        "AND CAST(respchartvalue AS NUMERIC) >= 30\n",
        "AND CAST(respchartvalue AS NUMERIC) <= 60\n",
        "''')\n",
        "df_lpm_values = df_lpm_values.rename(columns = {'f0_' : 'respchartvalue'})\n",
        "df_lpm_values.head(10)"
      ],
      "execution_count": 9,
      "outputs": [
        {
          "output_type": "stream",
          "text": [
            "/usr/local/lib/python3.6/dist-packages/pandas_gbq/gbq.py:810: FutureWarning: verbose is deprecated and will be removed in a future version. Set logging level in order to vary verbosity\n",
            "  \"verbosity\", FutureWarning, stacklevel=1)\n"
          ],
          "name": "stderr"
        },
        {
          "output_type": "execute_result",
          "data": {
            "text/html": [
              "<div>\n",
              "<style scoped>\n",
              "    .dataframe tbody tr th:only-of-type {\n",
              "        vertical-align: middle;\n",
              "    }\n",
              "\n",
              "    .dataframe tbody tr th {\n",
              "        vertical-align: top;\n",
              "    }\n",
              "\n",
              "    .dataframe thead th {\n",
              "        text-align: right;\n",
              "    }\n",
              "</style>\n",
              "<table border=\"1\" class=\"dataframe\">\n",
              "  <thead>\n",
              "    <tr style=\"text-align: right;\">\n",
              "      <th></th>\n",
              "      <th>respchartvalue</th>\n",
              "      <th>patientUnitStayID</th>\n",
              "    </tr>\n",
              "  </thead>\n",
              "  <tbody>\n",
              "    <tr>\n",
              "      <th>0</th>\n",
              "      <td>30</td>\n",
              "      <td>944640</td>\n",
              "    </tr>\n",
              "    <tr>\n",
              "      <th>1</th>\n",
              "      <td>30</td>\n",
              "      <td>944640</td>\n",
              "    </tr>\n",
              "    <tr>\n",
              "      <th>2</th>\n",
              "      <td>30</td>\n",
              "      <td>944640</td>\n",
              "    </tr>\n",
              "    <tr>\n",
              "      <th>3</th>\n",
              "      <td>30</td>\n",
              "      <td>944640</td>\n",
              "    </tr>\n",
              "    <tr>\n",
              "      <th>4</th>\n",
              "      <td>30</td>\n",
              "      <td>944640</td>\n",
              "    </tr>\n",
              "    <tr>\n",
              "      <th>5</th>\n",
              "      <td>30</td>\n",
              "      <td>944640</td>\n",
              "    </tr>\n",
              "    <tr>\n",
              "      <th>6</th>\n",
              "      <td>30</td>\n",
              "      <td>944640</td>\n",
              "    </tr>\n",
              "    <tr>\n",
              "      <th>7</th>\n",
              "      <td>30</td>\n",
              "      <td>944640</td>\n",
              "    </tr>\n",
              "    <tr>\n",
              "      <th>8</th>\n",
              "      <td>30</td>\n",
              "      <td>944640</td>\n",
              "    </tr>\n",
              "    <tr>\n",
              "      <th>9</th>\n",
              "      <td>30</td>\n",
              "      <td>944640</td>\n",
              "    </tr>\n",
              "  </tbody>\n",
              "</table>\n",
              "</div>"
            ],
            "text/plain": [
              "   respchartvalue  patientUnitStayID\n",
              "0              30             944640\n",
              "1              30             944640\n",
              "2              30             944640\n",
              "3              30             944640\n",
              "4              30             944640\n",
              "5              30             944640\n",
              "6              30             944640\n",
              "7              30             944640\n",
              "8              30             944640\n",
              "9              30             944640"
            ]
          },
          "metadata": {
            "tags": []
          },
          "execution_count": 9
        }
      ]
    },
    {
      "metadata": {
        "id": "J5DMykIu2dFS",
        "colab_type": "code",
        "colab": {
          "base_uri": "https://localhost:8080/",
          "height": 347
        },
        "outputId": "aeee2c4d-9f1c-44f0-8de3-83d563dfd448"
      },
      "cell_type": "code",
      "source": [
        "fig, ax = plt.subplots()\n",
        "plt.hist(df_lpm_values['respchartvalue'],bins=20)\n",
        "\n",
        "every_nth = 1\n",
        "for n, label in enumerate(ax.xaxis.get_ticklabels()):\n",
        "    if n % every_nth != 0:\n",
        "        label.set_visible(False)\n",
        "plt.show()"
      ],
      "execution_count": 10,
      "outputs": [
        {
          "output_type": "display_data",
          "data": {
            "image/png": "[encoded data removed]",
            "text/plain": [
              "<matplotlib.figure.Figure at 0x7f11ea42d2b0>"
            ]
          },
          "metadata": {
            "tags": []
          }
        }
      ]
    },
    {
      "metadata": {
        "id": "vsP-8Tb02jDB",
        "colab_type": "code",
        "colab": {
          "base_uri": "https://localhost:8080/",
          "height": 397
        },
        "outputId": "77d1eb4c-dbbb-4de2-a965-86fd98cdbbbb"
      },
      "cell_type": "code",
      "source": [
        "df_diagnosis = run_query('''\n",
        "SELECT * \n",
        "  FROM `physionet-data.eicu_crd.diagnosis`\n",
        "WHERE patientunitstayid IN \n",
        "(\n",
        "SELECT DISTINCT patientunitstayid FROM `physionet-data.eicu_crd.respiratorycharting`\n",
        "WHERE respchartvaluelabel='LPM O2' AND REGEXP_CONTAINS(respchartvalue,'^[0-9]*$')\n",
        "AND CAST(respchartvalue as numeric) >= 30\n",
        "AND CAST(respchartvalue as numeric) <= 60\n",
        ")\n",
        "''')\n",
        "df_diagnosis.head(10)"
      ],
      "execution_count": 11,
      "outputs": [
        {
          "output_type": "stream",
          "text": [
            "/usr/local/lib/python3.6/dist-packages/pandas_gbq/gbq.py:810: FutureWarning: verbose is deprecated and will be removed in a future version. Set logging level in order to vary verbosity\n",
            "  \"verbosity\", FutureWarning, stacklevel=1)\n"
          ],
          "name": "stderr"
        },
        {
          "output_type": "execute_result",
          "data": {
            "text/html": [
              "<div>\n",
              "<style scoped>\n",
              "    .dataframe tbody tr th:only-of-type {\n",
              "        vertical-align: middle;\n",
              "    }\n",
              "\n",
              "    .dataframe tbody tr th {\n",
              "        vertical-align: top;\n",
              "    }\n",
              "\n",
              "    .dataframe thead th {\n",
              "        text-align: right;\n",
              "    }\n",
              "</style>\n",
              "<table border=\"1\" class=\"dataframe\">\n",
              "  <thead>\n",
              "    <tr style=\"text-align: right;\">\n",
              "      <th></th>\n",
              "      <th>diagnosisid</th>\n",
              "      <th>patientunitstayid</th>\n",
              "      <th>activeupondischarge</th>\n",
              "      <th>diagnosisoffset</th>\n",
              "      <th>diagnosisstring</th>\n",
              "      <th>icd9code</th>\n",
              "      <th>diagnosispriority</th>\n",
              "    </tr>\n",
              "  </thead>\n",
              "  <tbody>\n",
              "    <tr>\n",
              "      <th>0</th>\n",
              "      <td>8476692</td>\n",
              "      <td>449971</td>\n",
              "      <td>False</td>\n",
              "      <td>78</td>\n",
              "      <td>neurologic|misc|headache</td>\n",
              "      <td>R51</td>\n",
              "      <td>Major</td>\n",
              "    </tr>\n",
              "    <tr>\n",
              "      <th>1</th>\n",
              "      <td>45409785</td>\n",
              "      <td>3236765</td>\n",
              "      <td>False</td>\n",
              "      <td>2341</td>\n",
              "      <td>neurologic|misc|headache</td>\n",
              "      <td>R51</td>\n",
              "      <td>Major</td>\n",
              "    </tr>\n",
              "    <tr>\n",
              "      <th>2</th>\n",
              "      <td>45034356</td>\n",
              "      <td>3236765</td>\n",
              "      <td>False</td>\n",
              "      <td>7342</td>\n",
              "      <td>neurologic|misc|headache</td>\n",
              "      <td>R51</td>\n",
              "      <td>Major</td>\n",
              "    </tr>\n",
              "    <tr>\n",
              "      <th>3</th>\n",
              "      <td>45314059</td>\n",
              "      <td>3236765</td>\n",
              "      <td>False</td>\n",
              "      <td>122</td>\n",
              "      <td>neurologic|misc|headache</td>\n",
              "      <td>R51</td>\n",
              "      <td>Major</td>\n",
              "    </tr>\n",
              "    <tr>\n",
              "      <th>4</th>\n",
              "      <td>45013279</td>\n",
              "      <td>3236765</td>\n",
              "      <td>False</td>\n",
              "      <td>19216</td>\n",
              "      <td>neurologic|misc|headache</td>\n",
              "      <td>R51</td>\n",
              "      <td>Major</td>\n",
              "    </tr>\n",
              "    <tr>\n",
              "      <th>5</th>\n",
              "      <td>45264186</td>\n",
              "      <td>3236765</td>\n",
              "      <td>False</td>\n",
              "      <td>1321</td>\n",
              "      <td>neurologic|misc|headache</td>\n",
              "      <td>R51</td>\n",
              "      <td>Major</td>\n",
              "    </tr>\n",
              "    <tr>\n",
              "      <th>6</th>\n",
              "      <td>45102539</td>\n",
              "      <td>3236765</td>\n",
              "      <td>False</td>\n",
              "      <td>7907</td>\n",
              "      <td>neurologic|misc|headache</td>\n",
              "      <td>R51</td>\n",
              "      <td>Major</td>\n",
              "    </tr>\n",
              "    <tr>\n",
              "      <th>7</th>\n",
              "      <td>45067931</td>\n",
              "      <td>3236765</td>\n",
              "      <td>False</td>\n",
              "      <td>1316</td>\n",
              "      <td>neurologic|misc|headache</td>\n",
              "      <td>R51</td>\n",
              "      <td>Major</td>\n",
              "    </tr>\n",
              "    <tr>\n",
              "      <th>8</th>\n",
              "      <td>45068336</td>\n",
              "      <td>3236765</td>\n",
              "      <td>False</td>\n",
              "      <td>606</td>\n",
              "      <td>neurologic|misc|headache</td>\n",
              "      <td>R51</td>\n",
              "      <td>Major</td>\n",
              "    </tr>\n",
              "    <tr>\n",
              "      <th>9</th>\n",
              "      <td>45235169</td>\n",
              "      <td>3236765</td>\n",
              "      <td>False</td>\n",
              "      <td>955</td>\n",
              "      <td>neurologic|misc|headache</td>\n",
              "      <td>R51</td>\n",
              "      <td>Major</td>\n",
              "    </tr>\n",
              "  </tbody>\n",
              "</table>\n",
              "</div>"
            ],
            "text/plain": [
              "   diagnosisid  patientunitstayid        ...          icd9code  diagnosispriority\n",
              "0      8476692             449971        ...               R51              Major\n",
              "1     45409785            3236765        ...               R51              Major\n",
              "2     45034356            3236765        ...               R51              Major\n",
              "3     45314059            3236765        ...               R51              Major\n",
              "4     45013279            3236765        ...               R51              Major\n",
              "5     45264186            3236765        ...               R51              Major\n",
              "6     45102539            3236765        ...               R51              Major\n",
              "7     45067931            3236765        ...               R51              Major\n",
              "8     45068336            3236765        ...               R51              Major\n",
              "9     45235169            3236765        ...               R51              Major\n",
              "\n",
              "[10 rows x 7 columns]"
            ]
          },
          "metadata": {
            "tags": []
          },
          "execution_count": 11
        }
      ]
    },
    {
      "metadata": {
        "id": "MvM0w9kl2wUC",
        "colab_type": "code",
        "colab": {
          "base_uri": "https://localhost:8080/",
          "height": 1058
        },
        "outputId": "6aaee0a3-175e-4da3-88d3-7ecdfb7efb59"
      },
      "cell_type": "code",
      "source": [
        "df_diagnosis['diagnosisstring'].value_counts()"
      ],
      "execution_count": 12,
      "outputs": [
        {
          "output_type": "execute_result",
          "data": {
            "text/plain": [
              "pulmonary|respiratory failure|acute respiratory failure                                                 10330\n",
              "renal|disorder of kidney|acute renal failure                                                             5268\n",
              "pulmonary|respiratory failure|hypoxemia                                                                  3335\n",
              "pulmonary|pulmonary infections|pneumonia                                                                 3244\n",
              "cardiovascular|ventricular disorders|congestive heart failure                                            2512\n",
              "cardiovascular|shock / hypotension|septic shock                                                          2415\n",
              "cardiovascular|shock / hypotension|sepsis                                                                2228\n",
              "cardiovascular|shock / hypotension|hypotension                                                           2157\n",
              "hematology|bleeding and red blood cell disorders|anemia                                                  2120\n",
              "gastrointestinal|malnutrition|protein-calorie malnutrition                                               2045\n",
              "endocrine|glucose metabolism|diabetes mellitus                                                           1779\n",
              "cardiovascular|shock / hypotension|sepsis|severe                                                         1728\n",
              "cardiovascular|arrhythmias|atrial fibrillation                                                           1726\n",
              "endocrine|glucose metabolism|hyperglycemia                                                               1696\n",
              "neurologic|altered mental status / pain|change in mental status                                          1661\n",
              "cardiovascular|arrhythmias|atrial fibrillation|with rapid ventricular response                           1654\n",
              "cardiovascular|vascular disorders|hypertension                                                           1589\n",
              "pulmonary|respiratory failure|acute respiratory distress                                                 1545\n",
              "neurologic|altered mental status / pain|pain                                                             1472\n",
              "cardiovascular|cardiac surgery|s/p CABG < 7 days                                                         1418\n",
              "cardiovascular|chest pain / ASHD|hyperlipidemia                                                          1395\n",
              "endocrine|glucose metabolism|hyperglycemia|stress related                                                1372\n",
              "neurologic|altered mental status / pain|encephalopathy                                                   1332\n",
              "pulmonary|disorders of the airways|COPD                                                                  1328\n",
              "cardiovascular|ventricular disorders|hypertension                                                        1254\n",
              "pulmonary|respiratory failure|acute respiratory failure|due to pulmonary infiltrates                     1223\n",
              "pulmonary|respiratory failure|ARDS                                                                       1142\n",
              "gastrointestinal|malnutrition|nutritional deficiency                                                     1080\n",
              "cardiovascular|shock / hypotension|hypotension / pressor dependent                                       1067\n",
              "hematology|white blood cell disorders|leukocytosis                                                       1049\n",
              "                                                                                                        ...  \n",
              "infectious diseases|skin, bone and joint infections|septic arthritis|small joint involvement                1\n",
              "neurologic|trauma - CNS|fracture of skull                                                                   1\n",
              "cardiovascular|valvular disease|valvular stenosis|aortic|with mitral valve disease                          1\n",
              "pulmonary|respiratory failure|failure to wean|due to CNS impairment|medication related                      1\n",
              "gastrointestinal|hepatic disease|hepatic dysfunction|with cirrhosis|biliary                                 1\n",
              "infectious diseases|skin, bone and joint infections|osteomyelitis|vertebral                                 1\n",
              "pulmonary|disorders of vasculature|pulmonary embolism|radiographically demonstrated, PA-gram                1\n",
              "infectious diseases|chest/pulmonary infections|purulent bronchitis                                          1\n",
              "pulmonary|disorders of the airways|emphysema                                                                1\n",
              "cardiovascular|post vascular surgery|s/p amputation                                                         1\n",
              "burns/trauma|trauma - chest|tension pneumothorax                                                            1\n",
              "neurologic|trauma - CNS|spinal cord injury                                                                  1\n",
              "renal|electrolyte imbalance|hypomagnesemia|suspected                                                        1\n",
              "burns/trauma|trauma - skeletal|dislocation|hip|closed                                                       1\n",
              "surgery|infections|abscess of wound                                                                         1\n",
              "surgery|respiratory failure|respiratory arrest                                                              1\n",
              "neurologic|disorders of vasculature|stroke|hemorrhagic stroke|cortical                                      1\n",
              "cardiovascular|cardiac surgery|s/p RVAD                                                                     1\n",
              "surgery|cardiac surgery|arrhythmia|heart block|pacemaker in place, pacing                                   1\n",
              "cardiovascular|vascular disorders|swollen extremity, etiology unknown|left lower extremity                  1\n",
              "cardiovascular|cardiac surgery|heart transplant complication|accelerated coronary atherosclerosis           1\n",
              "pulmonary|disorders of vasculature|pulmonary arteriovenous fistula|with hypoxemia                           1\n",
              "gastrointestinal|transplant|liver-transplant rejection                                                      1\n",
              "infectious diseases|chest/pulmonary infections|pneumonia|community-acquired|atypical organism likely        1\n",
              "cardiovascular|vascular disorders|swollen extremity, etiology unknown|r/o hematoma                          1\n",
              "cardiovascular|valvular disease|valvular stenosis|mitral|with aortic valve disease                          1\n",
              "cardiovascular|vascular disorders|swollen extremity, etiology unknown|r/o lymphedema                        1\n",
              "surgery|cardiac surgery|pleural effusion                                                                    1\n",
              "oncology|chest tumors|primary lung cancer|biopsy pending                                                    1\n",
              "burns/trauma|trauma - CNS|spinal cord injury|paraplegia-complete                                            1\n",
              "Name: diagnosisstring, Length: 1634, dtype: int64"
            ]
          },
          "metadata": {
            "tags": []
          },
          "execution_count": 12
        }
      ]
    },
    {
      "metadata": {
        "id": "kamoAhRs4vA3",
        "colab_type": "text"
      },
      "cell_type": "markdown",
      "source": [
        "## Begin table 1\n",
        "\n",
        "\n"
      ]
    },
    {
      "metadata": {
        "id": "fhWRQ8IS-eVX",
        "colab_type": "code",
        "colab": {}
      },
      "cell_type": "code",
      "source": [
        "data = df_high_flow.drop_duplicates(subset = ['unique_patients'])"
      ],
      "execution_count": 0,
      "outputs": []
    },
    {
      "metadata": {
        "id": "eNiAYSsS93TA",
        "colab_type": "code",
        "colab": {
          "base_uri": "https://localhost:8080/",
          "height": 282
        },
        "outputId": "8d4db726-9c20-45f2-eda6-ff2688b40b5f"
      },
      "cell_type": "code",
      "source": [
        "data.head()"
      ],
      "execution_count": 89,
      "outputs": [
        {
          "output_type": "execute_result",
          "data": {
            "text/html": [
              "<div>\n",
              "<style scoped>\n",
              "    .dataframe tbody tr th:only-of-type {\n",
              "        vertical-align: middle;\n",
              "    }\n",
              "\n",
              "    .dataframe tbody tr th {\n",
              "        vertical-align: top;\n",
              "    }\n",
              "\n",
              "    .dataframe thead th {\n",
              "        text-align: right;\n",
              "    }\n",
              "</style>\n",
              "<table border=\"1\" class=\"dataframe\">\n",
              "  <thead>\n",
              "    <tr style=\"text-align: right;\">\n",
              "      <th></th>\n",
              "      <th>age</th>\n",
              "      <th>gender</th>\n",
              "      <th>ethnicity</th>\n",
              "      <th>hospitalID</th>\n",
              "      <th>wardID</th>\n",
              "      <th>apacheAdmissionDx</th>\n",
              "      <th>admissionHeight</th>\n",
              "      <th>admissionWeight</th>\n",
              "      <th>hospitalDischargeYear</th>\n",
              "      <th>hospitalDischargeStatus</th>\n",
              "      <th>hospitalAdmitSource</th>\n",
              "      <th>patientunitstayid</th>\n",
              "      <th>unique_patients</th>\n",
              "      <th>respchartvalue</th>\n",
              "      <th>respChartOffset</th>\n",
              "      <th>respChartEntryOffset</th>\n",
              "      <th>respchartvaluelabel</th>\n",
              "    </tr>\n",
              "  </thead>\n",
              "  <tbody>\n",
              "    <tr>\n",
              "      <th>0</th>\n",
              "      <td>68</td>\n",
              "      <td>Female</td>\n",
              "      <td>Caucasian</td>\n",
              "      <td>63</td>\n",
              "      <td>95</td>\n",
              "      <td>CHF, congestive heart failure</td>\n",
              "      <td>160.0</td>\n",
              "      <td>126.2</td>\n",
              "      <td>2015</td>\n",
              "      <td>Alive</td>\n",
              "      <td>Emergency Department</td>\n",
              "      <td>173458</td>\n",
              "      <td>002-10086</td>\n",
              "      <td>30</td>\n",
              "      <td>405</td>\n",
              "      <td>405</td>\n",
              "      <td>LPM O2</td>\n",
              "    </tr>\n",
              "    <tr>\n",
              "      <th>5</th>\n",
              "      <td>59</td>\n",
              "      <td>Male</td>\n",
              "      <td>Caucasian</td>\n",
              "      <td>73</td>\n",
              "      <td>92</td>\n",
              "      <td>CABG, minimally invasive; mid-CABG</td>\n",
              "      <td>175.3</td>\n",
              "      <td>116.7</td>\n",
              "      <td>2015</td>\n",
              "      <td>Alive</td>\n",
              "      <td>Operating Room</td>\n",
              "      <td>163413</td>\n",
              "      <td>002-10328</td>\n",
              "      <td>40</td>\n",
              "      <td>498</td>\n",
              "      <td>498</td>\n",
              "      <td>LPM O2</td>\n",
              "    </tr>\n",
              "    <tr>\n",
              "      <th>6</th>\n",
              "      <td>63</td>\n",
              "      <td>Female</td>\n",
              "      <td>Caucasian</td>\n",
              "      <td>73</td>\n",
              "      <td>92</td>\n",
              "      <td>CABG with aortic valve replacement</td>\n",
              "      <td>149.9</td>\n",
              "      <td>60.2</td>\n",
              "      <td>2015</td>\n",
              "      <td>Alive</td>\n",
              "      <td>Operating Room</td>\n",
              "      <td>155956</td>\n",
              "      <td>002-10444</td>\n",
              "      <td>40</td>\n",
              "      <td>1267</td>\n",
              "      <td>1267</td>\n",
              "      <td>LPM O2</td>\n",
              "    </tr>\n",
              "    <tr>\n",
              "      <th>18</th>\n",
              "      <td>45</td>\n",
              "      <td>Male</td>\n",
              "      <td>Caucasian</td>\n",
              "      <td>73</td>\n",
              "      <td>102</td>\n",
              "      <td>Hemorrhage/hematoma, intracranial</td>\n",
              "      <td>177.8</td>\n",
              "      <td>136.1</td>\n",
              "      <td>2015</td>\n",
              "      <td>Alive</td>\n",
              "      <td>Emergency Department</td>\n",
              "      <td>188763</td>\n",
              "      <td>002-10665</td>\n",
              "      <td>30</td>\n",
              "      <td>2232</td>\n",
              "      <td>2232</td>\n",
              "      <td>LPM O2</td>\n",
              "    </tr>\n",
              "    <tr>\n",
              "      <th>29</th>\n",
              "      <td>31</td>\n",
              "      <td>Male</td>\n",
              "      <td>Caucasian</td>\n",
              "      <td>73</td>\n",
              "      <td>97</td>\n",
              "      <td>Sepsis, pulmonary</td>\n",
              "      <td>190.5</td>\n",
              "      <td>114.8</td>\n",
              "      <td>2015</td>\n",
              "      <td>Alive</td>\n",
              "      <td>Floor</td>\n",
              "      <td>211974</td>\n",
              "      <td>002-10708</td>\n",
              "      <td>60</td>\n",
              "      <td>2514</td>\n",
              "      <td>2514</td>\n",
              "      <td>LPM O2</td>\n",
              "    </tr>\n",
              "  </tbody>\n",
              "</table>\n",
              "</div>"
            ],
            "text/plain": [
              "    age  gender         ...          respChartEntryOffset  respchartvaluelabel\n",
              "0    68  Female         ...                           405               LPM O2\n",
              "5    59    Male         ...                           498               LPM O2\n",
              "6    63  Female         ...                          1267               LPM O2\n",
              "18   45    Male         ...                          2232               LPM O2\n",
              "29   31    Male         ...                          2514               LPM O2\n",
              "\n",
              "[5 rows x 17 columns]"
            ]
          },
          "metadata": {
            "tags": []
          },
          "execution_count": 89
        }
      ]
    },
    {
      "metadata": {
        "id": "UAVnpnVW5JjM",
        "colab_type": "code",
        "colab": {}
      },
      "cell_type": "code",
      "source": [
        "columns = ['age','gender','ethnicity','admissionWeight','admissionHeight']"
      ],
      "execution_count": 0,
      "outputs": []
    },
    {
      "metadata": {
        "id": "oG7KZhFM5Mwq",
        "colab_type": "code",
        "colab": {}
      },
      "cell_type": "code",
      "source": [
        "categorical = ['gender','ethnicity']"
      ],
      "execution_count": 0,
      "outputs": []
    },
    {
      "metadata": {
        "id": "F6baCC0_5O0K",
        "colab_type": "code",
        "colab": {}
      },
      "cell_type": "code",
      "source": [
        "groupby = ''\n",
        "nonnormal = ['']"
      ],
      "execution_count": 0,
      "outputs": []
    },
    {
      "metadata": {
        "id": "kEN_iNnA5SOl",
        "colab_type": "code",
        "colab": {}
      },
      "cell_type": "code",
      "source": [
        "mytable = TableOne(data, columns, categorical, groupby, nonnormal)"
      ],
      "execution_count": 0,
      "outputs": []
    },
    {
      "metadata": {
        "id": "qSo1ab9s7m7Z",
        "colab_type": "code",
        "colab": {
          "base_uri": "https://localhost:8080/",
          "height": 558
        },
        "outputId": "c2b32242-f70e-448e-9ebc-9dba6bb0fe04"
      },
      "cell_type": "code",
      "source": [
        "mytable"
      ],
      "execution_count": 94,
      "outputs": [
        {
          "output_type": "execute_result",
          "data": {
            "text/html": [
              "<div>\n",
              "<style scoped>\n",
              "    .dataframe tbody tr th:only-of-type {\n",
              "        vertical-align: middle;\n",
              "    }\n",
              "\n",
              "    .dataframe tbody tr th {\n",
              "        vertical-align: top;\n",
              "    }\n",
              "\n",
              "    .dataframe thead th {\n",
              "        text-align: right;\n",
              "    }\n",
              "</style>\n",
              "<table border=\"1\" class=\"dataframe\">\n",
              "  <thead>\n",
              "    <tr style=\"text-align: right;\">\n",
              "      <th></th>\n",
              "      <th></th>\n",
              "      <th>isnull</th>\n",
              "      <th>overall</th>\n",
              "    </tr>\n",
              "    <tr>\n",
              "      <th>variable</th>\n",
              "      <th>level</th>\n",
              "      <th></th>\n",
              "      <th></th>\n",
              "    </tr>\n",
              "  </thead>\n",
              "  <tbody>\n",
              "    <tr>\n",
              "      <th>n</th>\n",
              "      <th></th>\n",
              "      <td></td>\n",
              "      <td>3594</td>\n",
              "    </tr>\n",
              "    <tr>\n",
              "      <th>age</th>\n",
              "      <th></th>\n",
              "      <td>0</td>\n",
              "      <td>65.28 (15.40)</td>\n",
              "    </tr>\n",
              "    <tr>\n",
              "      <th rowspan=\"3\" valign=\"top\">gender</th>\n",
              "      <th>Female</th>\n",
              "      <td>0</td>\n",
              "      <td>1571 (43.71)</td>\n",
              "    </tr>\n",
              "    <tr>\n",
              "      <th>Male</th>\n",
              "      <td></td>\n",
              "      <td>2022 (56.26)</td>\n",
              "    </tr>\n",
              "    <tr>\n",
              "      <th>Unknown</th>\n",
              "      <td></td>\n",
              "      <td>1 (0.03)</td>\n",
              "    </tr>\n",
              "    <tr>\n",
              "      <th rowspan=\"7\" valign=\"top\">ethnicity</th>\n",
              "      <th></th>\n",
              "      <td>0</td>\n",
              "      <td>9 (0.25)</td>\n",
              "    </tr>\n",
              "    <tr>\n",
              "      <th>African American</th>\n",
              "      <td></td>\n",
              "      <td>212 (5.9)</td>\n",
              "    </tr>\n",
              "    <tr>\n",
              "      <th>Asian</th>\n",
              "      <td></td>\n",
              "      <td>21 (0.58)</td>\n",
              "    </tr>\n",
              "    <tr>\n",
              "      <th>Caucasian</th>\n",
              "      <td></td>\n",
              "      <td>3100 (86.25)</td>\n",
              "    </tr>\n",
              "    <tr>\n",
              "      <th>Hispanic</th>\n",
              "      <td></td>\n",
              "      <td>101 (2.81)</td>\n",
              "    </tr>\n",
              "    <tr>\n",
              "      <th>Native American</th>\n",
              "      <td></td>\n",
              "      <td>23 (0.64)</td>\n",
              "    </tr>\n",
              "    <tr>\n",
              "      <th>Other/Unknown</th>\n",
              "      <td></td>\n",
              "      <td>128 (3.56)</td>\n",
              "    </tr>\n",
              "    <tr>\n",
              "      <th>admissionWeight</th>\n",
              "      <th></th>\n",
              "      <td>117</td>\n",
              "      <td>86.83 (30.97)</td>\n",
              "    </tr>\n",
              "    <tr>\n",
              "      <th>admissionHeight</th>\n",
              "      <th></th>\n",
              "      <td>25</td>\n",
              "      <td>169.06 (11.47)</td>\n",
              "    </tr>\n",
              "  </tbody>\n",
              "</table>\n",
              "</div><br />[1] Warning, Hartigan's Dip Test reports possible multimodal distributions for: age, admissionHeight.<br />[2] Warning, Tukey test indicates far outliers in: admissionWeight, admissionHeight.<br />[3] Warning, test for normality reports non-normal distributions for: age, admissionWeight, admissionHeight.<br />"
            ],
            "text/plain": [
              "                                 isnull         overall\n",
              "variable        level                                  \n",
              "n                                                  3594\n",
              "age                                   0   65.28 (15.40)\n",
              "gender          Female                0    1571 (43.71)\n",
              "                Male                       2022 (56.26)\n",
              "                Unknown                        1 (0.03)\n",
              "ethnicity                             0        9 (0.25)\n",
              "                African American              212 (5.9)\n",
              "                Asian                         21 (0.58)\n",
              "                Caucasian                  3100 (86.25)\n",
              "                Hispanic                     101 (2.81)\n",
              "                Native American               23 (0.64)\n",
              "                Other/Unknown                128 (3.56)\n",
              "admissionWeight                     117   86.83 (30.97)\n",
              "admissionHeight                      25  169.06 (11.47)\n",
              "[1] Warning, Hartigan's Dip Test reports possible multimodal distributions for: age, admissionHeight.\n",
              "[2] Warning, Tukey test indicates far outliers in: admissionWeight, admissionHeight.\n",
              "[3] Warning, test for normality reports non-normal distributions for: age, admissionWeight, admissionHeight."
            ]
          },
          "metadata": {
            "tags": []
          },
          "execution_count": 94
        }
      ]
    },
    {
      "metadata": {
        "id": "TYxLkx2X7nb8",
        "colab_type": "code",
        "colab": {}
      },
      "cell_type": "code",
      "source": [
        ""
      ],
      "execution_count": 0,
      "outputs": []
    }
  ]
}